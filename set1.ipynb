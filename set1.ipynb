{
 "cells": [
  {
   "cell_type": "markdown",
   "metadata": {},
   "source": [
    "## Chalenge 1\n",
    "### Convert hex to base 64\n",
    "\n",
    "I have given an hex string(base16), so i will convert it to bytes and then encode it to base64. "
   ]
  },
  {
   "cell_type": "code",
   "execution_count": 12,
   "metadata": {},
   "outputs": [],
   "source": [
    "import base64\n",
    "def hexToB64(hexstr:str)->str:\n",
    "    b64Bytes = base64.b64encode((bytes.fromhex(hexstr)))\n",
    "    return b64Bytes.decode()"
   ]
  },
  {
   "cell_type": "code",
   "execution_count": 13,
   "metadata": {},
   "outputs": [
    {
     "name": "stdout",
     "output_type": "stream",
     "text": [
      "True\n"
     ]
    }
   ],
   "source": [
    "## Check\n",
    "hexstr = \"49276d206b696c6c696e6720796f757220627261696e206c696b65206120706f69736f6e6f7573206d757368726f6f6d\"\n",
    "base64str = \"SSdtIGtpbGxpbmcgeW91ciBicmFpbiBsaWtlIGEgcG9pc29ub3VzIG11c2hyb29t\"\n",
    "print(hexToB64(hexstr)==base64str)"
   ]
  },
  {
   "cell_type": "markdown",
   "metadata": {},
   "source": [
    "## Chalenge 2\n",
    "### Fixed XOR\n",
    "We have given two hex strings we have to calculate bitwise xor of those two strings"
   ]
  },
  {
   "cell_type": "code",
   "execution_count": 10,
   "metadata": {},
   "outputs": [],
   "source": [
    "def xorCalc(str1:str,str2:str)->str:\n",
    "    str1bytes = bytes.fromhex(str1)\n",
    "    str2bytes = bytes.fromhex(str2)\n",
    "    xorbytes = bytes([a^b for a,b in zip(str1bytes,str2bytes)])\n",
    "    return xorbytes.hex()"
   ]
  },
  {
   "cell_type": "code",
   "execution_count": 11,
   "metadata": {},
   "outputs": [
    {
     "name": "stdout",
     "output_type": "stream",
     "text": [
      "True\n"
     ]
    }
   ],
   "source": [
    "# Check\n",
    "hexstr1 = \"1c0111001f010100061a024b53535009181c\"\n",
    "hexstr2 = \"686974207468652062756c6c277320657965\"\n",
    "xorres = \"746865206b696420646f6e277420706c6179\"\n",
    "\n",
    "print(xorCalc(hexstr1,hexstr2)==xorres)"
   ]
  },
  {
   "cell_type": "markdown",
   "metadata": {},
   "source": [
    "## Chalenge 3\n",
    "### Single-byte XOR cipher\n",
    "\n",
    "a hex encoded string has been xored against a single character(key), i assumed that the string has been xored by repeating key to match the length of string\n",
    "a single character has `8bits = 1byte` and a single hexcharacter has `4bits` so to match their length i have to multiply the character by `len(hexstr)/2`. if `len(hexstr)` is not divisible we will add a `0 bit` at starting of hexstring"
   ]
  },
  {
   "cell_type": "code",
   "execution_count": 45,
   "metadata": {},
   "outputs": [],
   "source": [
    "def xor_with_character(hexstr:str,char:str)->str:\n",
    "    '''This returns a string in readable format'''\n",
    "    if len(hexstr)%2 != 0: hexstr = '0'+hexstr\n",
    "    charbytes = bytes(char*(len(hexstr)//2),encoding='ascii')\n",
    "    hexStrBytes = bytes.fromhex(hexstr)\n",
    "    xored_result = bytes([a^b for a,b in zip(hexStrBytes,charbytes)])\n",
    "    return xored_result.decode()"
   ]
  },
  {
   "cell_type": "code",
   "execution_count": 46,
   "metadata": {},
   "outputs": [
    {
     "name": "stdout",
     "output_type": "stream",
     "text": [
      "Zvvrpw~9TZ>j9upr|9x9ivlw}9v9{xzvw  <= result for character  A\n",
      "Yuuqst}:WY=i:vsq:{:juot~:u|:x{yut  <= result for character  B\n",
      "Xttpru|;VX<h;wrp~;z;ktnu;t};yzxtu  <= result for character  C\n",
      "_sswur{<Q_;o<puwy<}<lsirx<sz<~}sr  <= result for character  D\n",
      "^rrvtsz=P^:n=qtvx=|=mrhsy=r{=|~rs  <= result for character  E\n",
      "]qquwpy>S]9m>rwu{>>nqkpz>qx>|}qp  <= result for character  F\n",
      "\\pptvqx?R\\8l?svtz?~?opjq{?py?}~|pq  <= result for character  G\n",
      "S{y~w0]S7c0|y{u0q0`e~t0v0rqs~  <= result for character  H\n",
      "R~~zxv1\\R6b1}xzt1p1a~du1~w1spr~  <= result for character  I\n",
      "Q}}y{|u2_Q5a2~{yw2s2b}g|v2}t2psq}|  <= result for character  J\n",
      "P||xz}t3^P4`3zxv3r3c|f}w3|u3qrp|}  <= result for character  K\n",
      "W{{}zs4YW3g4x}q4u4d{azp4{r4vuw{z  <= result for character  L\n",
      "Vzz~|{r5XV2f5y|~p5t5ez`{q5zs5wtvz{  <= result for character  M\n",
      "Uyy}xq6[U1e6z}s6w6fycxr6yp6twuyx  <= result for character  N\n",
      "Txx|~yp7ZT0d7{~|r7v7gxbys7xq7uvtxy  <= result for character  O\n",
      "Kggcafo(EK/{(dacm(i(xg}fl(gn(jikgf  <= result for character  P\n",
      "Jffb`gn)DJ.z)e`bl)h)yf|gm)fo)khjfg  <= result for character  Q\n",
      "Ieeacdm*GI-y*fcao*k*zedn*el*hkied  <= result for character  R\n",
      "Hdd`bel+FH,x+gb`n+j+{d~eo+dm+ijhde  <= result for character  S\n",
      "Occgebk,AO+,`egi,m,|cybh,cj,nmocb  <= result for character  T\n",
      "Nbbfdcj-@N*~-adfh-l-}bxci-bk-olnbc  <= result for character  U\n",
      "Maaeg`i.CM)}.bgek.o.~a{`j.ah.loma`  <= result for character  V\n",
      "L``dfah/BL(|/cfdj/n/`zak/`i/mnl`a  <= result for character  W\n",
      "Cooking MC's like a pound of bacon  <= result for character  X\n",
      "Bnnjhof!LB&r!mhjd!`!qntoe!ng!c`bno  <= result for character  Y\n",
      "Ammikle\"OA%q\"nkig\"c\"rmwlf\"md\"`caml  <= result for character  Z\n"
     ]
    }
   ],
   "source": [
    "ciphertext = '1b37373331363f78151b7f2b783431333d78397828372d363c78373e783a393b3736'\n",
    "\n",
    "for i in range(ord('A'),ord('Z')+1):\n",
    "    print(xor_with_character(ciphertext,chr(i)),\" <= result for character \",chr(i))"
   ]
  },
  {
   "cell_type": "markdown",
   "metadata": {},
   "source": [
    "so for character `X` we got our decrypted message `Cooking MC's like a pound of bacon`. now for designing a metric i will use wikipedia most used characters in english language and Bhattacharya's coefficient(inspired from `pranavmaneriker`)."
   ]
  },
  {
   "cell_type": "code",
   "execution_count": 47,
   "metadata": {},
   "outputs": [],
   "source": [
    "import math\n",
    "\n",
    "def calculate_bc(eng_str:str)->float:\n",
    "    '''This function gives a value between 0 and 1, which represents similarity of eng_str with eng language'''\n",
    "    char_freq = {\n",
    "        'a': 0.08166999999999999,\n",
    "        'b': 0.01492,\n",
    "        'c': 0.02782,\n",
    "        'd': 0.04253,\n",
    "        'e': 0.12702,\n",
    "        'f': 0.02228,\n",
    "        'g': 0.02015,\n",
    "        'h': 0.06094,\n",
    "        'i': 0.06966,\n",
    "        'j': 0.00153,\n",
    "        'k': 0.00772,\n",
    "        'l': 0.04025,\n",
    "        'm': 0.02406,\n",
    "        'n': 0.06749,\n",
    "        'o': 0.07507,\n",
    "        'p': 0.01929,\n",
    "        'q': 0.00095,\n",
    "        'r': 0.05987,\n",
    "        's': 0.06326999999999999,\n",
    "        't': 0.09055999999999999,\n",
    "        'u': 0.02758,\n",
    "        'v': 0.00978,\n",
    "        'w': 0.0236,\n",
    "        'x': 0.0015,\n",
    "        'y': 0.01974,\n",
    "        'z': 0.00074\n",
    "    }\n",
    "    str_chr_freq = {a:0 for a in char_freq}\n",
    "    eng_str = eng_str.lower()\n",
    "    for c in eng_str:\n",
    "        if c in str_chr_freq:\n",
    "            str_chr_freq[c] += 1\n",
    "    \n",
    "    BC = 0\n",
    "    for i in char_freq: BC += math.sqrt(char_freq[i]*str_chr_freq[i]/len(eng_str))\n",
    "    return BC"
   ]
  },
  {
   "cell_type": "code",
   "execution_count": 83,
   "metadata": {},
   "outputs": [
    {
     "name": "stdout",
     "output_type": "stream",
     "text": [
      "('X', \"Cooking MC's like a pound of bacon\", 0.7102457869430675)\n"
     ]
    }
   ],
   "source": [
    "def sorted_xor_ciphers(ciphertext):\n",
    "    poss_soln = []\n",
    "    for c in range(ord('A'),ord('Z')+1):\n",
    "        try:\n",
    "            decoded_str = xor_with_character(ciphertext,chr(c))\n",
    "            poss_soln.append((chr(c),decoded_str,calculate_bc(decoded_str)))\n",
    "        except UnicodeDecodeError:\n",
    "            continue\n",
    "    poss_soln.sort(key=lambda x:x[2],reverse=True)\n",
    "    return poss_soln\n",
    "print(sorted_xor_ciphers(ciphertext)[0])"
   ]
  },
  {
   "cell_type": "markdown",
   "metadata": {},
   "source": [
    "## Challenge 4\n",
    "### Find the XOR Ciphered string\n",
    "\n",
    "In file `challenge4.txt` hex strings are ciphered same as above, i will decipher all the strings and will sort acc to their BC."
   ]
  },
  {
   "cell_type": "code",
   "execution_count": 88,
   "metadata": {},
   "outputs": [
    {
     "name": "stdout",
     "output_type": "stream",
     "text": [
      "[('B', 'WPuS[GNNS\\x00f\\x18B\\rAt\\x12\\nZraH[gJ\\x1eXUed', 0.6548860350981618), ('Z', 'eA\\x00neY\\x12hCaOf\\x12uM_cuXE\\x05S\\tsV\\x16\\x19kql', 0.6445543376663577), ('P', 'HTA\\x06DSO\\x0f\\x07O{Dl\\rlKu*\\x1bge_H\\x14\\nnXdLm', 0.6363520378308245), ('Z', 'tH\\x01uvGUEMTV\\x0biEV\\\\sLJn\\x06\\\\Y#Ei\\x7feTV', 0.6345215840255556), ('T', 'AFcEMQXXE\\x16p\\x0eT\\x1bWb\\x04\\x1cLdw^Mq\\\\\\x08NCsr', 0.627097811672793), ('E', 'PWrT\\\\@IIT\\x07a\\x1fE\\nFs\\x15\\r]ufO\\\\`M\\x19_Rbc', 0.6255548153740456), ('M', '{\\x04lRlI\\x1bHSdBV\\x01\\x15\\x00J\\x04oAeFg\\x1d\\x1eRkdL\\x1ds', 0.6220477507384194), ('Q', 'IU@\\x07ERN\\x0e\\x06NzEm\\x0cmJt+\\x1afd^I\\x15\\x0boYeMl', 0.6162293192216397), ('C', 'VQtRZFOOR\\x01g\\x19C\\x0c@u\\x13\\x0b[s`IZfK\\x1fYTde', 0.6060819316694385)]\n"
     ]
    }
   ],
   "source": [
    "with open('challenge4.txt','r') as f:\n",
    "    input_str = f.read().strip().splitlines()\n",
    "\n",
    "output_str = []\n",
    "for s in input_str:\n",
    "    s = s.strip()\n",
    "    output_str.extend(sorted_xor_ciphers(s))\n",
    "\n",
    "output_str.sort(key=lambda x:x[2],reverse=True)\n",
    "print(output_str[0:9])"
   ]
  },
  {
   "cell_type": "markdown",
   "metadata": {},
   "source": [
    "## Challenge 5\n",
    "### Implement repeating-key XOR\n",
    "In repeating-key XOR, you'll sequentially apply each byte of the key; the first byte of plaintext will be XOR'd against I, the next C, the next E, then I again for the 4th byte, and so on. "
   ]
  },
  {
   "cell_type": "code",
   "execution_count": 128,
   "metadata": {},
   "outputs": [],
   "source": [
    "def repeating_key_xor(eng_str:str,key:str):\n",
    "    \"\".join(eng_str.splitlines())\n",
    "    xorbytes = []\n",
    "    for i,ch in enumerate(eng_str):\n",
    "        keyIndex = key[(i%len(key))]\n",
    "        xorbyte = hex(ord(ch)^ord(keyIndex))[2:]\n",
    "        if len(xorbyte)%2 != 0 : xorbyte = \"0\"+xorbyte\n",
    "        xorbytes.append(xorbyte)\n",
    "    res = \"\".join(xorbytes)\n",
    "    if len(res)%2 != 0 : res = \"0\"+res\n",
    "    return res"
   ]
  },
  {
   "cell_type": "code",
   "execution_count": 130,
   "metadata": {},
   "outputs": [
    {
     "name": "stdout",
     "output_type": "stream",
     "text": [
      "True\n"
     ]
    }
   ],
   "source": [
    "eng_txt = '''Burning 'em, if you ain't quick and nimble\n",
    "I go crazy when I hear a cymbal'''\n",
    "\n",
    "ciphertext = \"0b3637272a2b2e63622c2e69692a23693a2a3c6324202d623d63343c2a26226324272765272a282b2f20430a652e2c652a3124333a653e2b2027630c692b20283165286326302e27282f\"\n",
    "\n",
    "print(repeating_key_xor(eng_txt,\"ICE\")==ciphertext)"
   ]
  }
 ],
 "metadata": {
  "kernelspec": {
   "display_name": "Python 3",
   "language": "python",
   "name": "python3"
  },
  "language_info": {
   "codemirror_mode": {
    "name": "ipython",
    "version": 3
   },
   "file_extension": ".py",
   "mimetype": "text/x-python",
   "name": "python",
   "nbconvert_exporter": "python",
   "pygments_lexer": "ipython3",
   "version": "3.10.12"
  }
 },
 "nbformat": 4,
 "nbformat_minor": 2
}
